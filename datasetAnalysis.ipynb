{
 "cells": [
  {
   "cell_type": "code",
   "execution_count": 3,
   "metadata": {},
   "outputs": [],
   "source": [
    "\n",
    "file_path = './dataset/dataset2.csv'\n",
    "\n",
    "with open (file_path, 'r', encoding='latin1') as file:\n",
    "    text = file.read()\n",
    "\n",
    "###     \n",
    "### carico il dataset dal file originale e faccio un processo di encoding e decoding da utf-8 per eliminare i caratteri speciali\n",
    "###\n",
    "text = text.replace('\\x92', \"'\")\n",
    "with open('./dataset/editato.csv', 'w', encoding='utf-8') as file2:\n",
    "    file2.write(text.encode(encoding='utf-8').decode())"
   ]
  },
  {
   "cell_type": "code",
   "execution_count": null,
   "metadata": {},
   "outputs": [],
   "source": []
  }
 ],
 "metadata": {
  "kernelspec": {
   "display_name": "Python 3",
   "language": "python",
   "name": "python3"
  },
  "language_info": {
   "codemirror_mode": {
    "name": "ipython",
    "version": 3
   },
   "file_extension": ".py",
   "mimetype": "text/x-python",
   "name": "python",
   "nbconvert_exporter": "python",
   "pygments_lexer": "ipython3",
   "version": "3.10.3"
  }
 },
 "nbformat": 4,
 "nbformat_minor": 2
}
